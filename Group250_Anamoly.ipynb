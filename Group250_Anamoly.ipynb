{
  "nbformat": 4,
  "nbformat_minor": 0,
  "metadata": {
    "colab": {
      "name": "Group250_Anamoly.ipynb",
      "provenance": [],
      "collapsed_sections": [],
      "authorship_tag": "ABX9TyNQr7Aha0NQuUwnYqgNrI5J",
      "include_colab_link": true
    },
    "kernelspec": {
      "name": "python3",
      "display_name": "Python 3"
    },
    "language_info": {
      "name": "python"
    }
  },
  "cells": [
    {
      "cell_type": "markdown",
      "metadata": {
        "id": "view-in-github",
        "colab_type": "text"
      },
      "source": [
        "<a href=\"https://colab.research.google.com/github/rakeshvitta/rakeshvitta/blob/main/Group250_Anamoly.ipynb\" target=\"_parent\"><img src=\"https://colab.research.google.com/assets/colab-badge.svg\" alt=\"Open In Colab\"/></a>"
      ]
    },
    {
      "cell_type": "markdown",
      "source": [
        "Team:\n",
        "\n",
        "NAVIN APPUKUTTAN NAIR - 2021fc04720\n",
        "\n",
        "N VISWANATHAN - 2021fc04318\n",
        "\n",
        "RAKESH VITTA - 2021fc04673\n",
        "\n",
        "Dataset:\n",
        "\n",
        "Anamoly Detection\n",
        "\n",
        "Location of the Dataset: https://drive.google.com/file/d/1n3hnxH9FPlGJVrbJgXr0fcLpNOvVDJQ-/view?usp=sharing "
      ],
      "metadata": {
        "id": "fjdkY4TGSKxm"
      }
    },
    {
      "cell_type": "markdown",
      "source": [
        "<b>Import Libraries</b>"
      ],
      "metadata": {
        "id": "AZyYcEUATz8V"
      }
    },
    {
      "cell_type": "code",
      "execution_count": 1,
      "metadata": {
        "id": "N8PgIffxSFyX"
      },
      "outputs": [],
      "source": [
        "import pandas as pd\n",
        "import numpy as np\n",
        "import seaborn as sns\n",
        "import matplotlib.pyplot as plt\n",
        "from sklearn.preprocessing import MinMaxScaler\n",
        "import sklearn\n",
        "from sklearn.model_selection import train_test_split\n",
        "from sklearn.model_selection import KFold"
      ]
    },
    {
      "cell_type": "markdown",
      "source": [
        "Import Dataset into the Notebook"
      ],
      "metadata": {
        "id": "uKpUbMaZT-O0"
      }
    },
    {
      "cell_type": "code",
      "source": [
        "url = 'https://raw.githubusercontent.com/rakeshvitta/rakeshvitta/main/Anamoly.csv'\n",
        "df = pd.read_csv(url)"
      ],
      "metadata": {
        "id": "RyXJUWKfUCVC"
      },
      "execution_count": 2,
      "outputs": []
    },
    {
      "cell_type": "markdown",
      "source": [
        "Data Visualization and Exploration\n",
        "\n",
        "\n",
        "\n",
        "1. Print 2 rows for sanity check to identify all the features present in the dataset and if the target matches with them. ❌\n",
        "2. Comment on class imbalance with appropriate visualization method. ❌\n",
        "3. Provide appropriate visualizations to get an insight about the dataset. ❌\n",
        "4. Do the correlational analysis on the dataset. Provide a visualization for the same. Will this correlational analysis have an effect on feature selection that you will perform in the next step? Justify your answer. Answers without \n",
        "justification will not be awarded marks. ❌\n",
        "5. Any other visualization specific to the problem statement. ❌\n",
        "\n",
        "\n"
      ],
      "metadata": {
        "id": "KWSmWJAJUDC3"
      }
    },
    {
      "cell_type": "code",
      "source": [
        ""
      ],
      "metadata": {
        "id": "LLK-1kEGUQV1"
      },
      "execution_count": null,
      "outputs": []
    },
    {
      "cell_type": "markdown",
      "source": [
        "<b> Data Preprocessing and Cleaning </b>\n",
        "\n",
        "\n",
        "1.  Do the appropriate pre-processing of the data like identifying NULL or Missing Values if any, handling of outliers if present in the dataset, skewed data etc. Mention the pre-processing steps performed in the markdown cell. Explore a few latest data balancing tasks and its effect on model evaluation parameters.  ❌\n",
        "2.   Apply appropriate feature engineering techniques for them. Apply the feature transformation techniques like Standardization, Normalization, etc. You are free to apply the appropriate transformations depending upon the structure and the complexity of your dataset. Provide proper justification. Techniques used without justification will not be awarded marks.  Explore a few techniques for identifying feature importance for your feature engineering task. ❌\n",
        "\n",
        "\n",
        "\n",
        "\n"
      ],
      "metadata": {
        "id": "KptbRR5rUSCU"
      }
    },
    {
      "cell_type": "code",
      "source": [
        ""
      ],
      "metadata": {
        "id": "vRpOsgclUX98"
      },
      "execution_count": null,
      "outputs": []
    },
    {
      "cell_type": "markdown",
      "source": [
        "<b> Model Building </b>\n",
        "\n",
        "\n",
        "1.   Split the dataset into training and test sets. Answers without justification will not be awarded marks. ❌\n",
        "\n",
        "Case 1 :   Train = 80 % Test = 20%  [ x_train1,y_train1] = 80% ; \n",
        "\n",
        "   [ x_test1,y_test1] = 20% ; \n",
        "\n",
        "Case 2 :   Train = 10 % Test = 90%  [ x_train2,y_train2] = 10% ; \n",
        "\n",
        "[ x_test2,y_test2] = 90%  \n",
        "\n",
        "2.   Explore k-fold cross validation. ❌\n",
        "3. Model the classifier using GaussianNB, BernoulliNB, and Multinomial NB.  \n",
        "4. Explore the need of regularization and incorporate few relevant techniques for the problem statement. ❌\n",
        "5. Compare models with and without regularization in a tabular format and justify the findings. ❌\n",
        "\n"
      ],
      "metadata": {
        "id": "eSBry6YBVA_P"
      }
    },
    {
      "cell_type": "code",
      "source": [
        ""
      ],
      "metadata": {
        "id": "MoDl_Ba3Vey9"
      },
      "execution_count": null,
      "outputs": []
    },
    {
      "cell_type": "markdown",
      "source": [
        "<b> Performance Evaluation </b>\n",
        "\n",
        "\n",
        "1.   Do the prediction for the test data and display the results for the inference. Calculate all the evaluation metrics and choose best for your model. Justify your answer. Answers without justification will not be awarded marks. ❌ \n",
        "2. Comment on underfitting/overfitting/just right model. Justify your comment. \n",
        "Answers without justification will not be awarded marks. ❌\n",
        "\n",
        "\n"
      ],
      "metadata": {
        "id": "D4VyfNJpVf4J"
      }
    },
    {
      "cell_type": "code",
      "source": [
        ""
      ],
      "metadata": {
        "id": "_d6BR3EqVuwD"
      },
      "execution_count": null,
      "outputs": []
    }
  ]
}